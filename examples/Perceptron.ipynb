{
 "cells": [
  {
   "cell_type": "code",
   "execution_count": 1,
   "metadata": {
    "collapsed": true
   },
   "outputs": [],
   "source": [
    "from numpy import array, dot\n",
    "def perceptron(inpt, weights, bias):\n",
    "    inpt = array(inpt)\n",
    "    weights = array(weights)\n",
    "    if dot(weights, inpt) + bias > 0:\n",
    "        return True\n",
    "    else:\n",
    "        return False"
   ]
  },
  {
   "cell_type": "code",
   "execution_count": 2,
   "metadata": {
    "collapsed": true
   },
   "outputs": [],
   "source": [
    "# defining weights, the importance of the inputs\n",
    "weight_sunshine = 1\n",
    "weight_friends = 1\n",
    "weight_hanghover = -1\n",
    "\n",
    "weights = [weight_sunshine, weight_friends, weight_hanghover]"
   ]
  },
  {
   "cell_type": "code",
   "execution_count": 3,
   "metadata": {
    "collapsed": true
   },
   "outputs": [],
   "source": [
    "# defining inputs, the actual situation\n",
    "input_sunshine = 1\n",
    "input_friends = 1\n",
    "input_hanghover = 0\n",
    "\n",
    "inputs = [input_sunshine, input_friends, input_hanghover]"
   ]
  },
  {
   "cell_type": "code",
   "execution_count": 4,
   "metadata": {
    "collapsed": true
   },
   "outputs": [],
   "source": [
    "# defining the bias, how important is it, that we want to go\n",
    "# remember bias = - threshold \n",
    "bias = 1"
   ]
  },
  {
   "cell_type": "code",
   "execution_count": 5,
   "metadata": {},
   "outputs": [
    {
     "data": {
      "text/plain": [
       "True"
      ]
     },
     "execution_count": 5,
     "metadata": {},
     "output_type": "execute_result"
    }
   ],
   "source": [
    "# getting the decision\n",
    "perceptron(inputs, weights, bias)"
   ]
  },
  {
   "cell_type": "code",
   "execution_count": null,
   "metadata": {
    "collapsed": true
   },
   "outputs": [],
   "source": []
  }
 ],
 "metadata": {
  "kernelspec": {
   "display_name": "Python 3",
   "language": "python",
   "name": "python3"
  },
  "language_info": {
   "codemirror_mode": {
    "name": "ipython",
    "version": 3
   },
   "file_extension": ".py",
   "mimetype": "text/x-python",
   "name": "python",
   "nbconvert_exporter": "python",
   "pygments_lexer": "ipython3",
   "version": "3.6.2"
  }
 },
 "nbformat": 4,
 "nbformat_minor": 1
}
