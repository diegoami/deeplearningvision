{
 "cells": [
  {
   "cell_type": "markdown",
   "metadata": {},
   "source": [
    "## This notebook demonstrates a simple gradient descent procedure"
   ]
  },
  {
   "cell_type": "code",
   "execution_count": 1,
   "metadata": {
    "collapsed": true
   },
   "outputs": [],
   "source": [
    "import matplotlib \n",
    "matplotlib.use('Agg')\n",
    "%matplotlib inline\n",
    "import matplotlib.pyplot as plt\n",
    "import numpy"
   ]
  },
  {
   "cell_type": "code",
   "execution_count": 2,
   "metadata": {
    "collapsed": true
   },
   "outputs": [],
   "source": [
    "# our function\n",
    "def function(x):\n",
    "    return (x-1)**2+2\n",
    "\n",
    "# the derivative of the function\n",
    "def function_grad(x):\n",
    "    return 2*(x-1)"
   ]
  },
  {
   "cell_type": "code",
   "execution_count": 4,
   "metadata": {},
   "outputs": [
    {
     "name": "stdout",
     "output_type": "stream",
     "text": [
      "f(4) = 11\n",
      "f(-1.4000000000000004) = 7.760000000000002\n",
      "f(2.920000000000001) = 5.686400000000003\n",
      "f(-0.5360000000000009) = 4.359296000000002\n",
      "f(2.228800000000001) = 3.5099494400000024\n"
     ]
    },
    {
     "data": {
      "text/plain": [
       "(-4, 5)"
      ]
     },
     "execution_count": 4,
     "metadata": {},
     "output_type": "execute_result"
    },
    {
     "data": {
      "image/png": "[encoded data removed]",
      "text/plain": [
       "<matplotlib.figure.Figure at 0x7f9a6e1aa0f0>"
      ]
     },
     "metadata": {},
     "output_type": "display_data"
    }
   ],
   "source": [
    "from random import random\n",
    "learning_rate = 0.9\n",
    "v = 4\n",
    "v_values = [v]\n",
    "f_v_values = [function(v)]\n",
    "for i in range(5):\n",
    "    print(\"f({}) = {}\".format(v,function(v)))\n",
    "    v_values.append(v)\n",
    "    f_v_values.append(function(v))\n",
    "    v = v - learning_rate * function_grad(v)\n",
    "    \n",
    "## Matplotlib results!!!\n",
    "x_values = numpy.linspace(-4, 5, 20)\n",
    "f_x_values = function(x_values)\n",
    "plt.plot(x_values, f_x_values)\n",
    "plt.plot(v_values, f_v_values, 'r',)\n",
    "plt.ylim((0,15))\n",
    "plt.xlim((-4,5))"
   ]
  },
  {
   "cell_type": "code",
   "execution_count": null,
   "metadata": {
    "collapsed": true
   },
   "outputs": [],
   "source": []
  },
  {
   "cell_type": "code",
   "execution_count": null,
   "metadata": {
    "collapsed": true
   },
   "outputs": [],
   "source": []
  }
 ],
 "metadata": {
  "kernelspec": {
   "display_name": "Python 3",
   "language": "python",
   "name": "python3"
  },
  "language_info": {
   "codemirror_mode": {
    "name": "ipython",
    "version": 3
   },
   "file_extension": ".py",
   "mimetype": "text/x-python",
   "name": "python",
   "nbconvert_exporter": "python",
   "pygments_lexer": "ipython3",
   "version": "3.6.2"
  }
 },
 "nbformat": 4,
 "nbformat_minor": 1
}
